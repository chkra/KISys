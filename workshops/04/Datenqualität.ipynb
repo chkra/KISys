{
 "cells": [
  {
   "cell_type": "markdown",
   "id": "15a5eb01",
   "metadata": {},
   "source": [
    "<img src=\"https://th.bing.com/th/id/R.0b9618782d4e7062573f5983d876649a?rik=7HWDbD%2feXNOe1A&pid=ImgRaw&r=0\" width=150>\n",
    "\n",
    "\n",
    "**I758 Wissens- und KI-basierte Systeme**\n",
    "\n",
    "# Explorative Datenanalyse - Teil 1: Datenqualität erkunden & korrigieren\n",
    "(c) Ricardo Knauer, Raphael Wallsberger, Christina Kratsch"
   ]
  },
  {
   "cell_type": "markdown",
   "id": "9aec1153",
   "metadata": {},
   "source": [
    "In der Realität sind Datensätze selten so gutartig wie unsere Maschinendaten aus der letzten Übung. Regelmäßig kommt es im Alltag zu \"unerwarteten\" Datenwerten. Ein guter Data Scientist verwendet deshalb einen wesentlichen Anteil seiner Zeit damit, die Qualität der Daten zu überprüfen und ggf. für die gestellte Aufgabe optimieren. Dies ist eine Wissenschaft für sich (sogenanntes *Data Engineering*), hier erhalten Sie nur einen ersten Einblick. \n",
    "\n",
    "Nehmen wir an, wir hätten nur eine deutlich schlechtere Messreihe zur Verfügung. Alles, was wir wissen, ist, dass mit den Daten etwas \"nicht in Ordnung\" ist. Wir müssen uns langsam vortasten. Die schlechte Messreihe finden Sie in einer anderen Datei:"
   ]
  },
  {
   "cell_type": "code",
   "execution_count": 1,
   "id": "5504d13a",
   "metadata": {},
   "outputs": [
    {
     "data": {
      "text/html": [
       "<div>\n",
       "<style scoped>\n",
       "    .dataframe tbody tr th:only-of-type {\n",
       "        vertical-align: middle;\n",
       "    }\n",
       "\n",
       "    .dataframe tbody tr th {\n",
       "        vertical-align: top;\n",
       "    }\n",
       "\n",
       "    .dataframe thead th {\n",
       "        text-align: right;\n",
       "    }\n",
       "</style>\n",
       "<table border=\"1\" class=\"dataframe\">\n",
       "  <thead>\n",
       "    <tr style=\"text-align: right;\">\n",
       "      <th></th>\n",
       "      <th>Maschine</th>\n",
       "      <th>Mode</th>\n",
       "      <th>Produkt</th>\n",
       "      <th>Strom / A</th>\n",
       "      <th>Drehmoment / Nm</th>\n",
       "      <th>Drehzahl / 1/min</th>\n",
       "      <th>Temp Umgebung / degC</th>\n",
       "      <th>Temp Umrichter / degC</th>\n",
       "      <th>Temp Werkzeug / degC</th>\n",
       "      <th>Bearbeitungszeit / s</th>\n",
       "    </tr>\n",
       "  </thead>\n",
       "  <tbody>\n",
       "    <tr>\n",
       "      <th>0</th>\n",
       "      <td>A</td>\n",
       "      <td>2.0</td>\n",
       "      <td>X</td>\n",
       "      <td>NaN</td>\n",
       "      <td>48,64</td>\n",
       "      <td>1463</td>\n",
       "      <td>21,5</td>\n",
       "      <td>23,3</td>\n",
       "      <td>95,1</td>\n",
       "      <td>21,4</td>\n",
       "    </tr>\n",
       "    <tr>\n",
       "      <th>1</th>\n",
       "      <td>B</td>\n",
       "      <td>2.0</td>\n",
       "      <td>Y</td>\n",
       "      <td>NaN</td>\n",
       "      <td>50,92</td>\n",
       "      <td>1462</td>\n",
       "      <td>20,9</td>\n",
       "      <td>22,8</td>\n",
       "      <td>98,2</td>\n",
       "      <td>24,8</td>\n",
       "    </tr>\n",
       "    <tr>\n",
       "      <th>2</th>\n",
       "      <td>C</td>\n",
       "      <td>2.0</td>\n",
       "      <td>X</td>\n",
       "      <td>NaN</td>\n",
       "      <td>46,85</td>\n",
       "      <td>1462</td>\n",
       "      <td>21,3</td>\n",
       "      <td>23,8</td>\n",
       "      <td>93,1</td>\n",
       "      <td>21,4</td>\n",
       "    </tr>\n",
       "    <tr>\n",
       "      <th>3</th>\n",
       "      <td>B</td>\n",
       "      <td>2.0</td>\n",
       "      <td>Y</td>\n",
       "      <td>NaN</td>\n",
       "      <td>49,69</td>\n",
       "      <td>1463</td>\n",
       "      <td>21,5</td>\n",
       "      <td>24,4</td>\n",
       "      <td>97,7</td>\n",
       "      <td>NaN</td>\n",
       "    </tr>\n",
       "    <tr>\n",
       "      <th>4</th>\n",
       "      <td>C</td>\n",
       "      <td>3.0</td>\n",
       "      <td>X</td>\n",
       "      <td>26,195</td>\n",
       "      <td>53,29</td>\n",
       "      <td>1462</td>\n",
       "      <td>NaN</td>\n",
       "      <td>25,3</td>\n",
       "      <td>104,1</td>\n",
       "      <td>19,9</td>\n",
       "    </tr>\n",
       "  </tbody>\n",
       "</table>\n",
       "</div>"
      ],
      "text/plain": [
       "  Maschine  Mode Produkt Strom / A Drehmoment / Nm  Drehzahl / 1/min  \\\n",
       "0        A   2.0       X       NaN           48,64              1463   \n",
       "1        B   2.0       Y       NaN           50,92              1462   \n",
       "2        C   2.0       X       NaN           46,85              1462   \n",
       "3        B   2.0       Y       NaN           49,69              1463   \n",
       "4        C   3.0       X    26,195           53,29              1462   \n",
       "\n",
       "  Temp Umgebung / degC Temp Umrichter / degC Temp Werkzeug / degC  \\\n",
       "0                 21,5                  23,3                 95,1   \n",
       "1                 20,9                  22,8                 98,2   \n",
       "2                 21,3                  23,8                 93,1   \n",
       "3                 21,5                  24,4                 97,7   \n",
       "4                  NaN                  25,3                104,1   \n",
       "\n",
       "  Bearbeitungszeit / s  \n",
       "0                 21,4  \n",
       "1                 24,8  \n",
       "2                 21,4  \n",
       "3                  NaN  \n",
       "4                 19,9  "
      ]
     },
     "execution_count": 1,
     "metadata": {},
     "output_type": "execute_result"
    }
   ],
   "source": [
    "import pandas as pd\n",
    "\n",
    "df = pd.read_csv(\"data/machine_data broken.csv\", sep=\";\")\n",
    "df.head()"
   ]
  },
  {
   "cell_type": "markdown",
   "id": "15eca567",
   "metadata": {},
   "source": [
    "Der Datensatz ist deutlich kleiner - aber immerhin stimmt das Format:"
   ]
  },
  {
   "cell_type": "code",
   "execution_count": null,
   "id": "fa1eced5",
   "metadata": {},
   "outputs": [],
   "source": [
    "df.shape"
   ]
  },
  {
   "cell_type": "markdown",
   "id": "fc255ca6",
   "metadata": {},
   "source": [
    "Mit ```.info()``` bekommen Sie einen Einblick in die Datentypen jeder Spalte:"
   ]
  },
  {
   "cell_type": "code",
   "execution_count": null,
   "id": "d63cf924",
   "metadata": {},
   "outputs": [],
   "source": [
    "df.info()"
   ]
  },
  {
   "cell_type": "markdown",
   "id": "62088911",
   "metadata": {},
   "source": [
    "Hier zeigt sich das erste Problem: einige Werte scheinen in den Spalten zu fehlen, der ```Non-Null Count``` entspricht nämlich nicht für jede Spalte der Zeilenzahl.\n",
    "Außerdem erkennen wir einen Fehler beim Einlesen der Daten: die meisten Spalten sind vom Typ ```object```. Soll heißen: Pandas erkennt nicht, dass es sich um numerische Werte handelt. Dies lässt sich einfach erklären - wir haben beim Einlesen nicht erwähnt, dass die Zahlen nicht mit der \"deutschen\" Schreibweise mit Komma als Trennzeichen notiert sind. Eine leidige und typische Fehlerquelle im Umgang mit Daten (die sich leider meist erst durch sehr kryptische Fehler weiter unten in den Pipeline bemerkbar macht).\n",
    "\n",
    "Also nochmal - lassen Sie uns ```df``` nochmal überschreiben:"
   ]
  },
  {
   "cell_type": "code",
   "execution_count": null,
   "id": "bfec83c8",
   "metadata": {},
   "outputs": [],
   "source": [
    "df = pd.read_csv(\"data/machine_data broken.csv\", sep=\";\", decimal=\",\")\n",
    "df.info()"
   ]
  },
  {
   "cell_type": "markdown",
   "id": "c3747de8",
   "metadata": {},
   "source": [
    "Viel besser! Aber da ist noch das Problem mit den fehlenden Werten. die letzte Spalte (Bearbeitungszeit) und auch einige andere Spalten scheinen unter Datenfehlern zu leiden.\n",
    "\n",
    "Wir können es uns einfach machen. Nutzen Sie die  eingebauten Funktionen ```.isnull``` und ```.sum```, um die Nullwerte zu zählen:"
   ]
  },
  {
   "cell_type": "code",
   "execution_count": null,
   "id": "75cf25fc",
   "metadata": {},
   "outputs": [],
   "source": []
  },
  {
   "cell_type": "markdown",
   "id": "65baedda",
   "metadata": {},
   "source": [
    "Die Spalte *Bearbeitungszeit / s* scheint massiv von unserem Problem betroffen. Hier fehlen so viele Werte, dass wir davon ausgehen können, dass die Spalte praktisch wertlos ist. Entfernen Sie mit `del` die Spalte aus dem Data Frame!"
   ]
  },
  {
   "cell_type": "code",
   "execution_count": null,
   "id": "2d8da802",
   "metadata": {},
   "outputs": [],
   "source": []
  },
  {
   "cell_type": "markdown",
   "id": "4c38141c",
   "metadata": {},
   "source": [
    "Gut zu wissen: für komplizierte Verfahren gibt es die mächtige Funktion ```.dropna```, die Spalten anhand fester Qualitätskriterien entfernen kann. Die wollen wir hier aber heute **nicht** einsetzen. Führen Sie den auskommentierten Code NICHT aus."
   ]
  },
  {
   "cell_type": "code",
   "execution_count": null,
   "id": "2f090366",
   "metadata": {},
   "outputs": [],
   "source": [
    "# Drop any rows which have any NaNs \n",
    "#df.dropna(axis=0) \n",
    "# Drop columns with over 70% non-NaNs \n",
    "#df.dropna(thresh=int(df.shape[0] * .7), axis=1)"
   ]
  },
  {
   "cell_type": "markdown",
   "id": "a1fae261",
   "metadata": {},
   "source": [
    "Die Spalte *Strom / A* ist uns wichtig - aber auch hier fehlen massiv Werte. Schauen wir uns die Spalte nochmal an:"
   ]
  },
  {
   "cell_type": "code",
   "execution_count": null,
   "id": "a7fdf22c",
   "metadata": {},
   "outputs": [],
   "source": [
    "df[\"Strom / A\"]"
   ]
  },
  {
   "cell_type": "markdown",
   "id": "9c7522d0",
   "metadata": {},
   "source": [
    "Pandas bietet die Funktion ```.fillna```, mit der leere Werte gefunden und neu gesetzt werden können. Zum Beispiel auf 0:"
   ]
  },
  {
   "cell_type": "code",
   "execution_count": null,
   "id": "d5edbec3",
   "metadata": {},
   "outputs": [],
   "source": [
    "df['Strom / A'].fillna(0.0)"
   ]
  },
  {
   "cell_type": "markdown",
   "id": "f242a97b",
   "metadata": {},
   "source": [
    "Achtung: achten Sie nochmal auf den Code der letzten Zeile, und dann schauen Sie sich nochmal die Werte in ```df``` an. Fällt Ihnen etwas auf? Wie hat sich ```df``` verändert?"
   ]
  },
  {
   "cell_type": "code",
   "execution_count": null,
   "id": "b41dd107",
   "metadata": {},
   "outputs": [],
   "source": [
    "df"
   ]
  },
  {
   "cell_type": "markdown",
   "id": "0c8a301c",
   "metadata": {},
   "source": [
    "Noch mehr Aufgaben für Sie: wie sicher fühlen Sie sich mit Data Science? Versuchen Sie doch mal, die fehlenden Werte nicht durch 0.0, sondern durch etwas intelligenteres zu ersetzen, zum Beispiel den Mittelwert oder den Median. Schreiben sie die Spalte jetzt auch wieder in den Data Frame zurück, damit sich `df` tatsächlich ändert:"
   ]
  },
  {
   "cell_type": "code",
   "execution_count": null,
   "id": "8f6bcd2e",
   "metadata": {},
   "outputs": [],
   "source": []
  },
  {
   "cell_type": "markdown",
   "id": "ff417da0",
   "metadata": {},
   "source": [
    "Plotten Sie nun zum Abschluss ihre Daten nochmal, zum Beispiel als Scatter Plot zwischen Strom und Drehmoment und betrachten Sie das Ergebnis Ihrer Arbeit. Vielleicht fällt Ihnen ja noch ein drittes Problem in unserem Datensatz auf? Schauen Sie mal in die \"Ecken\" des Plots!"
   ]
  },
  {
   "cell_type": "code",
   "execution_count": null,
   "id": "ad9642ef",
   "metadata": {},
   "outputs": [],
   "source": []
  },
  {
   "cell_type": "markdown",
   "id": "2b50a972",
   "metadata": {},
   "source": [
    "# Explorative Datenanalyse - Teil 2: Daten skalieren und verarbeiten mit `scikit learn`\n",
    "(c) Christina Kratsch"
   ]
  },
  {
   "cell_type": "markdown",
   "id": "a79f7ea4",
   "metadata": {},
   "source": [
    "Viele Machine Learning Algorithmen machen Annahmen über ihre Daten, z.B. über die zugrundeliegende statistische Verteilung, den Wertebereich oder den Datentyp. Die Data Science Bibliothek `scikit learn` bietet neben einer extrem umfangreichen Sammlung an Algorithemn (und einer exzellenten Dokumentation) auch mit `sklearn.preprocessing` eine Bibliothek zur Vorverarbeitung von Daten."
   ]
  },
  {
   "cell_type": "markdown",
   "id": "28ae3633",
   "metadata": {},
   "source": [
    "## Skalieren und Normalisieren\n",
    "\n",
    "Zuerst importieren wir die notwendigen Bibliotheken und laden unsere Daten."
   ]
  },
  {
   "cell_type": "code",
   "execution_count": 3,
   "id": "bf531768",
   "metadata": {},
   "outputs": [],
   "source": [
    "import numpy as np\n",
    "from sklearn import preprocessing\n",
    "\n",
    "# Angenommen, dies sind unsere Daten\n",
    "X_train = np.array([[1., -1., 2.],\n",
    "                    [2., 0., 0.],\n",
    "                    [0., 1., -1.]])"
   ]
  },
  {
   "cell_type": "markdown",
   "id": "30eeb5f7",
   "metadata": {},
   "source": [
    "Die Standardisierung von Datensätzen ist eine gängige Anforderung für viele Machine-Learning-Schätzer. Sie könnten sich schlecht verhalten, wenn die einzelnen Merkmale nicht mehr oder weniger wie standardnormalverteilte Daten aussehen: Gaussian mit Null-Mittelwert und Einheitsvarianz.\n",
    "\n",
    "**Aufgabe:** Überlegen Sie einen Moment, was ein Grund sein könnte, warum die Syntax des `StandardScaler` so umständlich ist. Schauen Sie ggf. auch in der [Dokumentation](https://scikit-learn.org/stable/modules/preprocessing.html) nach!"
   ]
  },
  {
   "cell_type": "code",
   "execution_count": 4,
   "id": "7bcb7ce8",
   "metadata": {},
   "outputs": [
    {
     "name": "stdout",
     "output_type": "stream",
     "text": [
      "[[ 0.         -1.22474487  1.33630621]\n",
      " [ 1.22474487  0.         -0.26726124]\n",
      " [-1.22474487  1.22474487 -1.06904497]]\n"
     ]
    }
   ],
   "source": [
    "scaler = preprocessing.StandardScaler().fit(X_train)\n",
    "X_scaled = scaler.transform(X_train)\n",
    "print(X_scaled)"
   ]
  },
  {
   "cell_type": "markdown",
   "id": "a00ce278",
   "metadata": {},
   "source": []
  },
  {
   "cell_type": "markdown",
   "id": "74627641",
   "metadata": {},
   "source": [
    "**Aufgabe:**  legen Sie eine Kopie `df_num` Ihres Data Frames an. Nutzen Sie den StandardScaler, um alle Werte darin zu normalisieren. Funktioniert das? Was fällt Ihnen auf? Korrigieren Sie ggf. `df_num` entsprechend. Wie gehen Sie mit der Spalte `mode` um?"
   ]
  },
  {
   "cell_type": "code",
   "execution_count": null,
   "id": "16af3e68",
   "metadata": {},
   "outputs": [],
   "source": []
  },
  {
   "cell_type": "markdown",
   "id": "2449bf01",
   "metadata": {},
   "source": [
    "Manchmal möchte man Daten in einem bestimmten Wertebereich (z.B. [0, 1]) haben, z.B. um sie als Wahrscheinlichkeiten interpretieren zu können. Auch dafür bietet `sklearn.preprocessing` Möglichkeiten:"
   ]
  },
  {
   "cell_type": "code",
   "execution_count": 9,
   "id": "8ace5a42",
   "metadata": {},
   "outputs": [
    {
     "data": {
      "text/plain": [
       "array([[0.5       , 0.        , 1.        ],\n",
       "       [1.        , 0.5       , 0.33333333],\n",
       "       [0.        , 1.        , 0.        ]])"
      ]
     },
     "execution_count": 9,
     "metadata": {},
     "output_type": "execute_result"
    }
   ],
   "source": [
    "X_train = np.array([[1., -1., 2.],\n",
    "                    [2., 0., 0.],\n",
    "                    [0., 1., -1.]])\n",
    "\n",
    "min_max_scaler = preprocessing.MinMaxScaler()\n",
    "X_train_minmax = min_max_scaler.fit_transform(X_train)\n",
    "X_train_minmax"
   ]
  },
  {
   "cell_type": "markdown",
   "id": "447e0aaa",
   "metadata": {},
   "source": [
    "**Aufgabe:** Skalieren Sie die Einträge in `df_num` auf den Wertebereich [-3, 3]!"
   ]
  },
  {
   "cell_type": "code",
   "execution_count": null,
   "id": "c181bd16",
   "metadata": {},
   "outputs": [],
   "source": []
  },
  {
   "cell_type": "markdown",
   "id": "6b83fe7e",
   "metadata": {},
   "source": [
    "## Umgang mit kategorischen Variablen"
   ]
  },
  {
   "cell_type": "markdown",
   "id": "8adff7d8",
   "metadata": {},
   "source": [
    "Wir haben noch einige Spalten in unseren Maschinendaten, die wir nicht adressiert haben: die kategorischen Werte wie z.B. die Produkt-Klasse. Manche ML-Verfahren können aber grundsätzlich nur mit numerischen Werten umgehen. "
   ]
  },
  {
   "cell_type": "markdown",
   "id": "21d2e66f",
   "metadata": {},
   "source": [
    "Die einfachste Möglichkeit, Kategorien in Zahlen umzuwandeln, ist, diese einfach zu \"übersetzen\", wie es im folgenden Beispiel mit drei Variablen passiert:"
   ]
  },
  {
   "cell_type": "code",
   "execution_count": 12,
   "id": "6c414247",
   "metadata": {},
   "outputs": [
    {
     "data": {
      "text/plain": [
       "array([[0., 1., 1.]])"
      ]
     },
     "execution_count": 12,
     "metadata": {},
     "output_type": "execute_result"
    }
   ],
   "source": [
    "enc = preprocessing.OrdinalEncoder()\n",
    "X = [['male', 'from US', 'uses Safari'], ['female', 'from Europe', 'uses Firefox']]\n",
    "enc.fit(X)\n",
    "enc.transform([['female', 'from US', 'uses Safari']])"
   ]
  },
  {
   "cell_type": "markdown",
   "id": "46553819",
   "metadata": {},
   "source": [
    "**Aufgabe:** erweitern Sie das Beispiel um weitere Belegungen (zum Beispiel das Geschlecht _non_binary_ oder die Herkunft _from Korea_) und kodieren Sie eine Beispiel-Belegung."
   ]
  },
  {
   "cell_type": "code",
   "execution_count": null,
   "id": "1554ea66",
   "metadata": {},
   "outputs": [],
   "source": []
  },
  {
   "cell_type": "markdown",
   "id": "8a65bc33",
   "metadata": {},
   "source": [
    "**Aufgabe:** was passiert, wenn einer der Werte nicht definiert ist (nutzen Sie `np.nan`)? Was macht die Belegung  `encoded_missing_value`?"
   ]
  },
  {
   "cell_type": "code",
   "execution_count": 14,
   "id": "d78871fb",
   "metadata": {},
   "outputs": [
    {
     "data": {
      "text/plain": [
       "array([[ 1.],\n",
       "       [ 0.],\n",
       "       [nan],\n",
       "       [ 0.]])"
      ]
     },
     "execution_count": 14,
     "metadata": {},
     "output_type": "execute_result"
    }
   ],
   "source": []
  },
  {
   "cell_type": "markdown",
   "id": "25bbd053",
   "metadata": {},
   "source": [
    "**Aufgabe:** Zum Schluss wird es nochmal kniffelig. Informieren Sie sich, was ein [OneHotEncoder](https://scikit-learn.org/stable/modules/generated/sklearn.preprocessing.OneHotEncoder.html#sklearn.preprocessing.OneHotEncoder) macht und kodieren Sie eine kategorische Spalte unseres Maschinendatensatzes (`df`). Achten Sie, wenn möglich, auch darauf, was mit fehlenden Werten passiert!"
   ]
  },
  {
   "cell_type": "code",
   "execution_count": null,
   "id": "a2775f78",
   "metadata": {},
   "outputs": [],
   "source": []
  },
  {
   "cell_type": "markdown",
   "id": "7924e050",
   "metadata": {},
   "source": [
    "Klasse! Sie haben jetzt einen grundlegenden Überblick über die Möglichkeiten zur Manipulation von Daten gewonnen. Nicht alle Methoden erscheinen Ihnen vielleicht jetzt bereits umfassend sinnvoll - wenn wir weiter voranschreiten, werden Sie aber viele ML-Algorithmen kennenlernen, die auf den hier genannten Verfahren aufbauen. Wenn die Qualität Ihres ML-Tools einmal nicht gut ist, kehren Sie in dieses Tutorial zurück und überlegen Sie, wie Sie vielleicht die Ausgangsdaten \"optimieren\" können!"
   ]
  },
  {
   "cell_type": "markdown",
   "id": "c185375f",
   "metadata": {},
   "source": []
  }
 ],
 "metadata": {
  "kernelspec": {
   "display_name": "Python 3.9.13 ('base')",
   "language": "python",
   "name": "python3"
  },
  "language_info": {
   "codemirror_mode": {
    "name": "ipython",
    "version": 3
   },
   "file_extension": ".py",
   "mimetype": "text/x-python",
   "name": "python",
   "nbconvert_exporter": "python",
   "pygments_lexer": "ipython3",
   "version": "3.9.16"
  },
  "vscode": {
   "interpreter": {
    "hash": "ad2bdc8ecc057115af97d19610ffacc2b4e99fae6737bb82f5d7fb13d2f2c186"
   }
  }
 },
 "nbformat": 4,
 "nbformat_minor": 5
}
