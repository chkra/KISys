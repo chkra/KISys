{
 "cells": [
  {
   "cell_type": "markdown",
   "id": "049aaf3e",
   "metadata": {},
   "source": [
    "<img src=\"../img/htw-logo.png\" width=150>\n",
    "\n",
    "\n",
    "**I758 Wissens- und KI-basierte Systeme**\n",
    "\n",
    "# Entscheidungsbäume\n",
    "Quelle: KI Campus / Anpassungen CK\n",
    "\n",
    "<font color=\"green\"><b>KLAUSURTAUGLICH.</b></font>\n",
    "Dieses Notebook gehört zu den fünf Notebooks, die Sie für die Klausur einreichen können. Bei vollständiger und korrekter Bearbeitung **erhalten Sie Punkte für die Abgabe, die zu Ihrer Klausur addiert werden.**"
   ]
  },
  {
   "cell_type": "markdown",
   "id": "f796e414",
   "metadata": {},
   "source": [
    "### CRISP-DM <a name=\"kap0\"></a>"
   ]
  },
  {
   "cell_type": "markdown",
   "id": "eedee0ca",
   "metadata": {},
   "source": [
    "In diesem Jupyter Notebook soll zunächst der Ablauf eines typischen Projektes in Data Mining an einem kleinen Beispiel demonstriert werden. Dabei werden die typischen Schritte eines solchen Projektes analog zum CRISP-DM Modell durchgeführt und kurz erläutert, um einen Überblick zu geben und anschließend durchgeführt. Detaillierte Erläuterungen zu den einzelnen Schritte folgen in den späteren Modulen. \n",
    "Der erste Schritt in einem Data Mining Projekt ist die genaue Formulierung der Aufgabe. In allgemeinen Anwendungen wird eine Geschäftsidee formuliert oder ein Problem einer Fachabteilung vorgetragen. Diese sollten mit Hilfe von Daten lösbar sein.  \n",
    "In Industrieanwendungen wird dieser Schritt oft von interdisziplinären Arbeitsgruppen, bestehend aus der Fachabteilung und der Data Science-Abteilung, entwickelt.  \n",
    "\n",
    "Wir analysieren den bekannten öffentlichen Titanic-Datensatz, ein beliebter Datensatz für Einsteiger-Analysen. Die Einträge in den Daten beschreiben Passagiere, und eine wichtige Variable (Eigenschaft) ist ihr Überleben, nämlich 'überlebt' bzw. 'nicht überlebt'.\n",
    "\n",
    "Damit wollen wir eine besondere KI, ein sogenanntes Klassifikationsmodell, lernen. In späteren Modulen des Kurses werden weitere Arten von Vorhersagemodellen thematisiert. Bei anderen Arten von Vorhersagemodellen sehen einzelne Ausgestaltungen der CRISP-DM Arbeitsbereiche unterschiedlich aus, die allgemeine Bedeutung der einzelnen Arbeitsbereiche bleibt aber gleich. \n",
    "\n",
    "Der Plan zur Erstellung des Modells ist, anhand der üblichen Schritte im CRISP-DM die Datengrundlage zu erforschen und dann Merkmale und einen Ansatz für eine Modellierung auszuwählen, sowie die Modellierung im Nachhinein bezüglich bestimmter Merkmale zu beurteilen und ggf. zu optimieren. "
   ]
  },
  {
   "cell_type": "markdown",
   "id": "a973c442",
   "metadata": {},
   "source": [
    "<div class=\"alert alert-block alert-warning\">\n",
    "<b>Ergebnissicherung:</b> <br>\n",
    "     - Der Arbeitsbereich Geschäftsverständnis dient dazu, ausgehend von der Fragestellung die Anforderungen und Ziele für das Data Mining Projekt zu formulieren. Die Vorgehensweise wird dabei geplant und in einer ersten Version festgelegt werden. <br>\n",
    "    - Ein Klassifikationsmodell ist ein Modell, welches ausgehend von einem Datensatz ein Modell erstellt, das die Kategorie (Klasse) bestimmter Beispiele vorhersagen kann. \n",
    "</div>"
   ]
  },
  {
   "cell_type": "markdown",
   "id": "bb3bbabc",
   "metadata": {},
   "source": [
    "###  Datenverständnis (Data Understanding) <a name=\"kap2\"></a>"
   ]
  },
  {
   "cell_type": "markdown",
   "id": "4be392ec",
   "metadata": {},
   "source": [
    "Ausgangspunkt für die Bearbeitung eines Data Mining Projekts sind selbstverständlich unterschiedliche Daten. In vielen Anwendungen, gerade im industriellen Kontext, ist es aufwändig, die passenden Daten zu finden und sie eventuell aus mehreren Quellen zusammen zu führen. \n",
    "\n",
    "Für das hier thematisierte Beispiel werden Informationen über die allgemeinen Merkmale der Reisenden und über die Frage, ob sie überlebt haben oder nicht, benötigt. \n",
    "\n",
    "Der Datensatz wird nun zunächst genauer betrachtet, um zu verstehen, welche Informationen zur Verfügung stehen."
   ]
  },
  {
   "cell_type": "markdown",
   "id": "99ba3221",
   "metadata": {},
   "source": [
    "Zu Beginn des Notebooks werden die grundlegenden Bibliotheken eingebunden, die in fast jedem Data Mining Projekt genutzt werden."
   ]
  },
  {
   "cell_type": "code",
   "execution_count": null,
   "id": "5d1c97bb",
   "metadata": {},
   "outputs": [],
   "source": [
    "import numpy as np\n",
    "import pandas as pd\n",
    "import matplotlib.pyplot as plt"
   ]
  },
  {
   "cell_type": "markdown",
   "id": "47b78e8e",
   "metadata": {},
   "source": [
    "Der Datensatz wird nun zunächst mit `pd.read_csv()` eingelesen, da er im csv-Format vorliegt. Anschließend wird er für eine erste Übersicht ausgegeben um zu überprüfen, ob die Datei richtig eingelesen wurde. "
   ]
  },
  {
   "cell_type": "code",
   "execution_count": null,
   "id": "299e06f4",
   "metadata": {
    "scrolled": false
   },
   "outputs": [],
   "source": [
    "csv_path = \"data/titanic.csv\"\n",
    "df = pd.read_csv(csv_path)  \n",
    "df"
   ]
  },
  {
   "cell_type": "markdown",
   "id": "fee77095",
   "metadata": {},
   "source": [
    "Die Daten von 890 Reisenden wurden eingelesen und liefern folgende Informationen:  \n",
    "- Die `PassengerId` nummeriert alle Reisenden durch.\n",
    "- Das Merkmal `Survived` = 'Überlebt' gibt uns an, ob die Reisenden überlebt haben oder nicht. Dabei bedeutet  0 = nicht überlebt, 1 = überlebt.\n",
    "- `Pclass` steht für die Ticketklasse. Es gab drei Klassen: 1, 2 und 3.\n",
    "- `Name` enthält die vollständigen Namen der Reisenden.\n",
    "- `Sex` = 'Geschlecht' gibt an, ob die Reisenden männlich oder weiblich waren.\n",
    "- `Age` = 'Alter' ist das Alter der Reisenden zu Beginn der Reise.\n",
    "- `SibSp` = 'Siblings/Spouses' = 'Geschwister/Ehepartner' zeigt an, wie viele Geschwister oder Ehepartner der Reisenden sich mit an Bord befanden.\n",
    "- `Parch` = 'Parents/Children' = 'Eltern/Kinder' informiert uns darüber, wie viele Elternteile oder Kinder der Reisenden sich mit an Bord befanden.\n",
    "- `Ticket` gibt die Ticketnummer der Reisenden an.\n",
    "- `Fare` = 'Fahrpreis' ist der Fahrpreis, der von den Reisenden für die Überfahrt bezahlt wurde.\n",
    "- `Cabin` = 'Kabine' enthält die Kabinennummer der Reisenden.\n",
    "- `Embarked` = 'Eingeschifft' gibt den Ort an, an dem die Reisenden zugestiegen sind. Möglich sind C = Cherbourg, Q=Queenstown und S = Southampton."
   ]
  },
  {
   "cell_type": "markdown",
   "id": "8b48968d",
   "metadata": {},
   "source": [
    "Eine genaue Betrachtung der Tabelle zeigt, dass nicht alle Felder ausgefüllt sind. Es gibt zum Beispiel in Zeile 0 bei `Cabin` den Eintrag `NaN` = 'Not a number' (keine Zahl). Um Mehr Informationen über den Datensatz zu gewinnen, kann der folgende Befehl eingesetzt werden: "
   ]
  },
  {
   "cell_type": "code",
   "execution_count": null,
   "id": "2a420245",
   "metadata": {},
   "outputs": [],
   "source": [
    "df.info()"
   ]
  },
  {
   "cell_type": "markdown",
   "id": "177b288c",
   "metadata": {},
   "source": [
    "Betrachten Sie die Ausgabe von ````.info()``` genau und beobachten Sie, welche Spalten besonders Problem-anfällig sind."
   ]
  },
  {
   "cell_type": "markdown",
   "id": "d8ba4385",
   "metadata": {},
   "source": [
    "#### Visualisierung"
   ]
  },
  {
   "cell_type": "markdown",
   "id": "875bd9b2",
   "metadata": {},
   "source": [
    "Die Visualisierung eines Datensatzes auf unterschiedlichen Wegen kann sehr hilfreich sein, um mehr Informationen über den Datensatz zu gewinnen. "
   ]
  },
  {
   "cell_type": "code",
   "execution_count": null,
   "id": "50fa0a32",
   "metadata": {},
   "outputs": [],
   "source": [
    "df.hist(figsize=(10,10))\n",
    "plt.show()"
   ]
  },
  {
   "cell_type": "markdown",
   "id": "2bb3edbf",
   "metadata": {},
   "source": [
    "Überlegen Sie: Welche Aussagen können Sie aus den Histogrammen entnehmen? Wieviele Passagiere haben überlebt? Wie viele reisten in welcher Klasse? Wie alt waren die Passagiere im Schnitt? Reisten viele Passagiere alleine? Wie verteilten sich die Ticketpreise?"
   ]
  },
  {
   "cell_type": "markdown",
   "id": "48836b7b",
   "metadata": {},
   "source": [
    "<div class=\"alert alert-block alert-success\">\n",
    "<b>Arbeitsauftrag:</b> \n",
    "\n",
    "Eine Visualisierung des Anteils der Überlebenden zu einem Merkmal, z.B. zur Passagierklasse, könnte erste Hinweise auf ein gutes Modell liefern. Um dies einfach umzusetzen, ist die Bibliothek seaborn und dort der Befehl countplot sehr hilfreich. Schauen Sie in der Dokumentation von searborn nach und versuchen Sie es!\n",
    "\n",
    "Tipp: Binden Sie die Bibliothek `seaborn` mit dem Kürzel `sns`ein und führen Sie im Anschluss den Befehl `sns.countplot(...)` aus. Eingabeparameter sind für `x` die Passagierklasse, für `hue` die Spalte mit dem Merkmal Überleben und für `data` der Datensatz. <br> Durch Ändern von `x='Pclass'` in ein anderes Merkmal können Sie dies auch für andere Merkmale tun. \n",
    "</div>"
   ]
  },
  {
   "cell_type": "code",
   "execution_count": null,
   "id": "7696160c",
   "metadata": {
    "scrolled": true
   },
   "outputs": [],
   "source": [
    "# Platz für Arbeitsauftrag\n"
   ]
  },
  {
   "cell_type": "markdown",
   "id": "7a41e09b",
   "metadata": {},
   "source": [
    "Aus dieser Darstellung zeigt sich bereits, dass Reisende der untersten Passagierklasse im Vergleich zu den beiden anderen Passagierklassen zu einem geringeren Anteil überlebt haben."
   ]
  },
  {
   "cell_type": "markdown",
   "id": "5787ec6a",
   "metadata": {},
   "source": [
    "<div class=\"alert alert-block alert-warning\">\n",
    "<b>Ergebnissicherung:</b> <br>\n",
    "    - Der Arbeitsbereich Datenverständnis dient dazu, sich einen Überblick über die vorliegenden Daten zu verschaffen. Dabei sollten die Daten in Hinblick auf ihre Eigenschaften und Qualität und die dadurch ggf. auftretenden Probleme für die Aufgabenstellung analysiert werden.\n",
    "</div>"
   ]
  },
  {
   "cell_type": "markdown",
   "id": "a383c966",
   "metadata": {},
   "source": [
    "### Datenvorbereitung (Data preparation) <a name=\"kap3\"></a>"
   ]
  },
  {
   "cell_type": "markdown",
   "id": "b4dea0fa",
   "metadata": {},
   "source": [
    "Bei der Datenvorbereitung wird ein Datensatz so weit vorbereitet, dass er anschließend für die Modellierung genutzt werden kann. Dabei sind viele Aspekte zu beachten:\n",
    "- Fehlende Daten werden ergänzt.\n",
    "- Der Datentyp wird überprüft und ggf. geändert.\n",
    "- Es werden die Merkmale ausgewählt, die Einfluss auf die Zielvariable haben. \n",
    "- ..."
   ]
  },
  {
   "cell_type": "code",
   "execution_count": null,
   "id": "641d99f7",
   "metadata": {},
   "outputs": [],
   "source": [
    "df.info()"
   ]
  },
  {
   "cell_type": "markdown",
   "id": "e970a9e0",
   "metadata": {},
   "source": [
    "Offenbar ist der Datensatz nicht vollständig. Eine Ergänzung der fehlenden Daten erscheint, gerade bei dem Merkmal `Cabin` aber schwierig. Dieser Punkt wird zunächst zurückgestellt und dann betrachtet, sobald die Merkmale für die spätere Analyse ausgewählt wurden. \n",
    "\n",
    "Daten mit numerischem Typ können von Python besser analysiert und verarbeitet werden, deshalb sollen zunächst alle Merkmale vom Typ `object` betrachtet werden, um zu sehen, ob sie in Zahlen umgewandelt werden können: \n",
    "\n",
    "- Beim Merkmal Namen ist dies nicht sinnvoll.\n",
    "- Das Merkmal `Sex` könnten durch `male`='männlich' mit 0 und `female`='weiblich' mit 1 umkodiert werden. \n",
    "- Das Merkmal `Ticket` beinhaltet eine unverständliche Buchstaben-Nummern-Kombination und bleibt deswegen unverändert. \n",
    "- Das Merkmal `Cabin` enthält nur wenige Daten und ist deswegen uninteressant. \n",
    "- Das Merkmal `Embarked` könnte mit Hilfe von Zahlen umkodiert werden, wegen des geringen zu erwartenden Einflusses wird dies zunächst nicht durchgeführt. "
   ]
  },
  {
   "cell_type": "code",
   "execution_count": null,
   "id": "fbf5240e",
   "metadata": {},
   "outputs": [],
   "source": [
    "df.loc[df.Sex =='male', 'Sex']=0\n",
    "df.loc[df.Sex =='female', 'Sex']=1"
   ]
  },
  {
   "cell_type": "markdown",
   "id": "d99ff863",
   "metadata": {},
   "source": [
    "Die Änderungen werden durch die Betrachtung der Daten überprüft: "
   ]
  },
  {
   "cell_type": "code",
   "execution_count": null,
   "id": "f79b0642",
   "metadata": {
    "scrolled": true
   },
   "outputs": [],
   "source": [
    "df.head()"
   ]
  },
  {
   "cell_type": "code",
   "execution_count": null,
   "id": "2eb29f95",
   "metadata": {},
   "outputs": [],
   "source": [
    "df.info()"
   ]
  },
  {
   "cell_type": "markdown",
   "id": "33892c2a",
   "metadata": {},
   "source": [
    "Das Geschlecht ist immer noch vom Typ `object`. "
   ]
  },
  {
   "cell_type": "markdown",
   "id": "12f3fd69",
   "metadata": {},
   "source": [
    "<div class=\"alert alert-block alert-success\">\n",
    "<b>Arbeitsauftrag:</b> \n",
    "    \n",
    "Nutzen Sie die Dokumentation von Python oder eine Suchmaschine dazu, herauszufinden, wie sich der Datentyp der Spalte `df['Sex']` in `float` umwandeln lässt. Wenden Sie den passenden Befehl anschließend an. \n",
    "    \n",
    "Tipp: Eine Möglichkeit ist in der Pandas Bibliothek zu finden. \n",
    "</div>"
   ]
  },
  {
   "cell_type": "code",
   "execution_count": null,
   "id": "09671b2e",
   "metadata": {},
   "outputs": [],
   "source": [
    "# Platz für Arbeitsauftrag"
   ]
  },
  {
   "cell_type": "markdown",
   "id": "6c91feb9",
   "metadata": {},
   "source": [
    "Die nachfolgende Ausgabe zeigt, dass das Vorgehen erfolgreich war. "
   ]
  },
  {
   "cell_type": "code",
   "execution_count": null,
   "id": "581f3291",
   "metadata": {
    "scrolled": true
   },
   "outputs": [],
   "source": [
    "df.info()"
   ]
  },
  {
   "cell_type": "markdown",
   "id": "6e1f30d4",
   "metadata": {},
   "source": [
    "### 3.1 Aufteilung in Trainings- und Testdatensatz <a name=\"kap31\"></a>"
   ]
  },
  {
   "cell_type": "markdown",
   "id": "fb4381a1",
   "metadata": {},
   "source": [
    "Beim überwachten Lernen wird der Datensatz in Trainings- und Testdatensatz aufgeteilt. Der Testdatensatz soll völlig unabhängig von allen späteren Entscheidungen sein, um damit die Güte der Vorhersage testen können. Daher wird diese Trennung üblicherweise vor der Merkmalsauswahl vorgenommen.\n",
    "\n",
    "Im folgenden Abschnitt wird der Datensatz aufgeteilt. Die Größe des Testdatensatzsatzes soll 30 % betragen (`test_size=0.3`). Mit `random_state=0` wird sichergestellt, dass immer die gleichen 30% Testdaten ausgewählt werden (die Ergebnisse des Modells fallen sonst bei jeder Durchführung etwas anders aus), `stratify` sorgt dafür, dass nach der Teilung in Trainings- und Testmenge die Verteilung in den beiden Mengen der der Ausgangsmenge entspricht, das bedeutet der Anteil der Überlebenden ist in beiden Mengen gleich. \n",
    "\n",
    "An dieser Stelle wird zum ersten Mal die Bibliothek sklearn benutzt. Sie ist die beliebteste Bibliothek für maschinelles Lernen in Python und enthält viele wichtigen Befehle aus diesem Bereich."
   ]
  },
  {
   "cell_type": "code",
   "execution_count": null,
   "id": "6f29c895",
   "metadata": {},
   "outputs": [],
   "source": [
    "from sklearn.model_selection import train_test_split\n",
    "train_set, test_set = train_test_split(df, test_size=0.3, random_state=0, stratify = df['Survived'])\n",
    "print(train_set)"
   ]
  },
  {
   "cell_type": "markdown",
   "id": "ff39111c",
   "metadata": {},
   "source": [
    "### 3.2 Erste Merkmalsauswahl <a name=\"kap32\"></a>"
   ]
  },
  {
   "cell_type": "markdown",
   "id": "0c443718",
   "metadata": {},
   "source": [
    "Zur Datenvorbereitung gehört die Entscheidung, welche Merkmale für die Modellierung betrachtet werden. So hat beispielsweise der Name der Reisenden offensichtlich keinen Einfluss auf das Überleben.\n",
    "\n",
    "Bei anderen Merkmalen stellt sich die Frage nach dem Einfluss aber:\n",
    "- Hat das Alter der Reisenden Einfluss auf ihren Überlebenswillen?\n",
    "- Haben Reisende mit vielen Angehörigen an Bord sich bemüht, sie zu retten und dabei das eigene Überleben riskiert?\n",
    "- Hat das Geschlecht Einfluss auf das Überleben? Haben sich Männer zuerst in die Rettungsboote gesetzt oder wurde nach dem Grundsatz \"Frauen und Kinder zuerst\" gehandelt?\n",
    "\n",
    "Eine Idee für den Einfluss eines numerischen Merkmals auf ein anderes gibt der Korrelationskoeffizient.\n",
    "Der Korrelationskoeffizient wird zwischen zwei Merkmalen berechnet und sein Wert liegt immer zwischen -1 und 1. Dabei bedeutet ein Wert nahe 0, dass zwei Merkmale sich gegenseitig nicht beeinflussen. Ein positiver Wert bedeutet, dass bei steigenden Werten des einen Merkmals auch die Werte des anderen Merkmals steigen. Je näher der Korrelationskoeffizient an 1 liegt, desto besser lässt sich das Verhältnis anhand einer Geraden mit positiver Steigung darstellen. Ein negativer Korrelationskoeffizient sagt aus, dass bei steigenden Werten des einen Merkmals die Werte des anderen Merkmals fallen. Je näher der Wert an -1 liegt, desto besser lässt sich das Verhältnis anhand einer Geraden mit negativer Steigung darstellen.\n",
    "\n",
    "Ein Überblick über die Korrelationskoeffizienten lässt sich mit einem einfachen Befehl erzeugen. "
   ]
  },
  {
   "cell_type": "code",
   "execution_count": null,
   "id": "bdb564b9",
   "metadata": {},
   "outputs": [],
   "source": [
    "import seaborn as sns\n",
    "corr_matrix = train_set.corr()\n",
    "plt.figure(figsize=(7, 5))\n",
    "sns.heatmap(corr_matrix, annot=True, vmin=-1, vmax=1)\n",
    "plt.show()"
   ]
  },
  {
   "cell_type": "markdown",
   "id": "4ccbfd32",
   "metadata": {},
   "source": [
    "<div class=\"alert alert-block alert-success\">\n",
    "<b>Arbeitsauftrag:</b> \n",
    "Überlegen Sie: welche Merkmale scheinen den größten Einfluss auf das Überleben auf der Titianic gehabt zu haben? \n",
    "</div>"
   ]
  },
  {
   "cell_type": "markdown",
   "id": "0e1218f0",
   "metadata": {},
   "source": []
  },
  {
   "cell_type": "markdown",
   "id": "3e9d8602",
   "metadata": {},
   "source": [
    "Zunächst wollen wir für die Modellierung deswegenausschließlich die Merkmale `Sex` und `Pclass` (und natürlich `Survived` als Zielvariable) betrachten. Die Auswahl wird im nächsten Schritt durchgeführt, das Zielmerkmal wird als `y` (abhängige Variable), die Menge aus Geschlecht und Passagierklasse als `X` (unabhängige Variable) gespeichert: "
   ]
  },
  {
   "cell_type": "code",
   "execution_count": null,
   "id": "aafd9e0c",
   "metadata": {},
   "outputs": [],
   "source": [
    "X_train=train_set[['Sex', 'Pclass']]\n",
    "X_train.info()\n",
    "y_train=train_set[['Survived']]\n",
    "\n",
    "X_test=test_set[['Sex', 'Pclass']]\n",
    "X_test.info()\n",
    "y_test=test_set[['Survived']]"
   ]
  },
  {
   "cell_type": "markdown",
   "id": "9011aeba",
   "metadata": {},
   "source": [
    "Die Ansicht zeigt, dass bezüglich der ausgewählten Merkmale keine `NaN` Einträge vorhanden sind, deshalb kann mit der Modellierung begonnen werden. "
   ]
  },
  {
   "cell_type": "markdown",
   "id": "4309c63e",
   "metadata": {},
   "source": [
    "<div class=\"alert alert-block alert-warning\">\n",
    "<b>Ergebnissicherung:</b> <br>\n",
    "    - Der Arbeitsbereich Datenvorbereitung dient dazu, den Datensatz so zu bereinigen und vorzubereiten, dass mit diesem die Modellierung vorgenommen werden kann.\n",
    "</div>"
   ]
  },
  {
   "cell_type": "markdown",
   "id": "b1158978",
   "metadata": {},
   "source": [
    "### Modellierung <a name=\"kap4\"></a>"
   ]
  },
  {
   "cell_type": "markdown",
   "id": "fd8fa8d9",
   "metadata": {},
   "source": [
    "Nun wird mit Hilfe der ausgewählten Merkmale aus den Trainingsdaten ein Modell zur Vorhersage des Überlebens der Reisenden erstellt. Das Modell, welches hier genutzt wird, ist ein Entscheidungsbaum (Decision Tree). \n",
    "\n",
    "Die folgende Zelle importiert das Modul zur Nutzung von Entscheidungbäumen und iniziiert dann einen Baum mit Tiefe 2 (`max_depth = 2`), es dürfen also zwei Unterscheidungsebenen erstellt werden."
   ]
  },
  {
   "cell_type": "code",
   "execution_count": null,
   "id": "4f8d1873",
   "metadata": {},
   "outputs": [],
   "source": [
    "from sklearn.tree import DecisionTreeClassifier\n",
    "tree_clf = DecisionTreeClassifier(max_depth = 2)\n",
    "tree_clf.fit(X_train, y_train)"
   ]
  },
  {
   "cell_type": "code",
   "execution_count": null,
   "id": "4c6e230b",
   "metadata": {},
   "outputs": [],
   "source": [
    "tree_clf.predict([[1,3]])"
   ]
  },
  {
   "cell_type": "markdown",
   "id": "f2b0b54f",
   "metadata": {},
   "source": [
    "Um das Modell zu visualisieren, wird mit dem folgenden Befehl der entstandene Baum ausgegeben."
   ]
  },
  {
   "cell_type": "code",
   "execution_count": null,
   "id": "ff5cc670",
   "metadata": {},
   "outputs": [],
   "source": [
    "from sklearn import tree\n",
    "tree.plot_tree(tree_clf, feature_names = X_train.columns, class_names=['not-Survived', 'Survived'], filled=True); "
   ]
  },
  {
   "cell_type": "markdown",
   "id": "289fa6b2",
   "metadata": {},
   "source": [
    "Das erste Modell wurde erfolgreich erzeugt. Die Visualisierung zeigt eine Entscheidung auf zwei Entscheidungsebenen, die erste nach dem Geschlecht, die zweite nach der Passagierklasse. Die Ausgabe (und Farbe) auf der untersten Ebene zeigen die Art der Klassifikation an."
   ]
  },
  {
   "cell_type": "markdown",
   "id": "22e999fb",
   "metadata": {},
   "source": [
    "<div class=\"alert alert-block alert-warning\">\n",
    "<b>Ergebnissicherung:</b> <br>\n",
    "    - Der Arbeitsbereich Modellierung dient dazu, die für den Datensatz geeigneten Methoden des Data Minings zu ermitteln und anzuwenden. Dabei werden die Parameter der Modelle optimiert und häufig verschiedene Modelle erstellt und verglichen.\n",
    "</div>"
   ]
  },
  {
   "cell_type": "markdown",
   "id": "1995dc51",
   "metadata": {},
   "source": [
    "### Modellgüte <a name=\"kap41\"></a>"
   ]
  },
  {
   "cell_type": "markdown",
   "id": "9181ea61",
   "metadata": {},
   "source": [
    "Ein erster Ansatz, um die Güte eines Modells einzuschätzen, ist die Trefferquote des Ziel-Merkmals bezüglich der Trainingsdaten und bezüglich der Testdaten. Dies wird in der folgenden Zelle berechnet:"
   ]
  },
  {
   "cell_type": "code",
   "execution_count": null,
   "id": "a6188180",
   "metadata": {},
   "outputs": [],
   "source": [
    "print(tree_clf.score(X_train, y_train))\n",
    "print(tree_clf.score(X_test, y_test))"
   ]
  },
  {
   "cell_type": "markdown",
   "id": "5f4f8afe",
   "metadata": {},
   "source": [
    "<div class=\"alert alert-block alert-success\">\n",
    "<b>Arbeitsauftrag:</b>\n",
    "    \n",
    "Eine weitere Möglichkeit, die Güte eines Modells zu überprüfen ist die Konfusionsmatrix. Um diese zu nutzen, ist die Funktion `confusion_matrix` aus dem metrics Modul sehr hilfreich. Schauen Sie in der Dokumentation von sklearn nach und versuchen Sie es!\n",
    "\n",
    "Tipp: Importieren Sie aus der Bibliothek `sklearn` das Modul `metrics` und nutzen Sie dann den Befehl `metrics.confusion_matrix(...)` mit der durch das Modell ermittelten Klasse und der tatsächlichen Klasse als Eingabeparametern.<br>\n",
    "    \n",
    "Frage: Was könnten die Einträge der ausgegebenen Matrix bedeuten?   \n",
    "</div>"
   ]
  },
  {
   "cell_type": "code",
   "execution_count": null,
   "id": "bc4fe918",
   "metadata": {},
   "outputs": [],
   "source": [
    "# Platz für Arbeitsauftrag"
   ]
  },
  {
   "cell_type": "markdown",
   "id": "d6c68b29",
   "metadata": {},
   "source": [
    "Die Konfusionsmatrix gibt uns genauer Erkenntnisse über die Art der falschen Vorhersagen."
   ]
  },
  {
   "cell_type": "markdown",
   "id": "1425d630",
   "metadata": {},
   "source": [
    "Das erste Modell könnte nun herausgegeben werden, es ist aber sinnvoller, noch einmal die vorhergehenden Schritte durchzugehen und zu überlegen, ob es mit einem neuen Durchlauf noch verbessert werden kann.\n"
   ]
  },
  {
   "cell_type": "markdown",
   "id": "0ea79034",
   "metadata": {},
   "source": [
    "<div class=\"alert alert-block alert-warning\">\n",
    "<b>Ergebnissicherung:</b> <br>\n",
    "    - Der Arbeitsbereich Evaluation dient dazu, die erstellten Modelle qualitativ zu bewerten, diese mit der Aufgabenstellung abzugleichen und das beste Modell auszuwählen.\n",
    "</div>"
   ]
  },
  {
   "cell_type": "markdown",
   "id": "809716b8",
   "metadata": {},
   "source": [
    "#### Iteration zu den vorhergehenden Schritten <a name=\"kap42\"></a>"
   ]
  },
  {
   "cell_type": "markdown",
   "id": "3a980f52",
   "metadata": {},
   "source": [
    "Bei diesem Schritt handelt es sich nicht um einen eigenen Arbeitsbereich, sondern vielmehr um die systematische Wiederholung der vorhergehenden Arbeitsbereiche für eine potentielle Verbesserung des Modells, beispielsweise anhand folgender Fragen: \n",
    "- Sollte versucht werden, fehlende Werte durch geschätzte Werte zu ersetzen, um nicht so viele Daten herauslöschen zu müssen?\n",
    "- Können andere oder mehr Merkmale verwendet werden, um das Modell zu erstellen? \n",
    "- Kann eine Veränderung der Modellparameter zu einem verbesserten Modell führen? \n",
    "\n",
    "\n",
    "<div class=\"alert alert-block alert-success\">\n",
    "<b>Arbeitsauftrag:</b>\n",
    "    \n",
    "Versuchen Sie, mit Hilfe der Data Frame Methode `df['Spaltenname'].mean()` und dem Anzeiger `df.loc` die fehlenden Werte in  `Age` und `Fare` durch mittelwerte zu ersetzen.\n",
    "\n",
    "Bauen Sie nun einen Entscheidungsbau, der auchdie Merkmale `Parch`, `Age` und `Fare` für die Modellierung betrachtet.\n",
    "Der Entscheidungsbaum soll sich bis zu einer Tiefe von 3 aufbauen. \n",
    "\n",
    "Zu Ihrer Hilfe findet sich unten schon ein Teil des Codes - Sie müssen nur die Punkte ersetzen.\n",
    "\n",
    "</div>\n"
   ]
  },
  {
   "cell_type": "code",
   "execution_count": null,
   "id": "e80bf005",
   "metadata": {},
   "outputs": [],
   "source": [
    "# df.loc[..., 'Age'] = ...\n",
    "# df.loc[..., 'Fare'] = ..."
   ]
  },
  {
   "cell_type": "code",
   "execution_count": null,
   "id": "408e0825",
   "metadata": {},
   "outputs": [],
   "source": [
    "#train_set, test_set = train_test_split(df, test_size=0.3, random_state=0, stratify = df['Survived'])\n",
    "#X_train= ...\n",
    "#y_train= ...\n",
    "\n",
    "#X_test= ...\n",
    "#y_test= ..."
   ]
  },
  {
   "cell_type": "code",
   "execution_count": null,
   "id": "16c931d7",
   "metadata": {},
   "outputs": [],
   "source": [
    "# tree_clf = DecisionTreeClassifier(...)  \n",
    "# tree_clf.fit(X_train, y_train)"
   ]
  },
  {
   "cell_type": "code",
   "execution_count": null,
   "id": "22770622",
   "metadata": {},
   "outputs": [],
   "source": [
    "tree.plot_tree(tree_clf, feature_names = X_train.columns, class_names=True, filled=True);"
   ]
  },
  {
   "cell_type": "code",
   "execution_count": null,
   "id": "46f5e9ec",
   "metadata": {},
   "outputs": [],
   "source": [
    "print(tree_clf.score(X_train, y_train))\n",
    "print(tree_clf.score(X_test, y_test))"
   ]
  },
  {
   "cell_type": "markdown",
   "id": "5818b33f",
   "metadata": {},
   "source": [
    "Das Modell hat sich durch diese Schritte ein wenig verbessert! \n",
    "Es kann beobachtet werden, dass sich ein Modell manchmal schon durch schlichtes Ausprobieren optimieren lässt."
   ]
  },
  {
   "cell_type": "markdown",
   "id": "38681941",
   "metadata": {},
   "source": [
    "<div class=\"alert alert-block alert-success\">\n",
    "<b>Arbeitsauftrag:</b> \n",
    "\n",
    "Nutzen Sie die nachfolgend vorgegebenen Bausteine, um mit der Auswahl der Merkmale und der Tiefe des Baums zu experimentieren, indem Sie die Bausteine einkommentieren und mit Parametern befüllen. Beschreiben Sie ihr finales Ergebnis. Halten Sie alle Vorgehensweisen und Parameter fest. Versuchen Sie, die Güte Ihres Modells so weit wie irgend möglich zu optimieren. <br>\n",
    "</div>\n",
    "\n"
   ]
  },
  {
   "cell_type": "code",
   "execution_count": null,
   "id": "fbcc74a8",
   "metadata": {},
   "outputs": [],
   "source": [
    "# Baustein zum Trennen von Trainingsdaten und Testdaten\n",
    "# train_set, test_set = train_test_split(df, test_size=0.3, random_state=0, stratify = df['Survived'])\n",
    "# X_train=train_set[[ ]]\n",
    "# y_train=train_set[['Survived']]\n",
    "# X_train.info()\n",
    "\n",
    "# X_test=test_set[[ ]]\n",
    "# X_test.info()\n",
    "# y_test=test_set[['Survived']]"
   ]
  },
  {
   "cell_type": "code",
   "execution_count": null,
   "id": "c581b036",
   "metadata": {},
   "outputs": [],
   "source": [
    "# Baustein zum Fitten und Ausgeben des Modells und seiner Güte\n",
    "#tree_clf_v2 = DecisionTreeClassifier(max_depth = 3)  \n",
    "#tree_clf_v2.fit(X_train, y_train)\n",
    "#tree.plot_tree(tree_clf_v2, feature_names = X_train.columns, class_names=True, filled=True) \n",
    "#print(tree_clf_v2.score(X_train, y_train))\n",
    "#print(tree_clf_v2.score(X_test, y_test))"
   ]
  }
 ],
 "metadata": {
  "hide_input": false,
  "kernelspec": {
   "display_name": "Python 3.9.13 ('base')",
   "language": "python",
   "name": "python3"
  },
  "language_info": {
   "codemirror_mode": {
    "name": "ipython",
    "version": 3
   },
   "file_extension": ".py",
   "mimetype": "text/x-python",
   "name": "python",
   "nbconvert_exporter": "python",
   "pygments_lexer": "ipython3",
   "version": "3.9.16"
  },
  "latex_envs": {
   "LaTeX_envs_menu_present": true,
   "autoclose": false,
   "autocomplete": true,
   "bibliofile": "biblio.bib",
   "cite_by": "apalike",
   "current_citInitial": 1,
   "eqLabelWithNumbers": true,
   "eqNumInitial": 1,
   "hotkeys": {
    "equation": "Ctrl-E",
    "itemize": "Ctrl-I"
   },
   "labels_anchors": false,
   "latex_user_defs": false,
   "report_style_numbering": false,
   "user_envs_cfg": false
  },
  "toc": {
   "base_numbering": 1,
   "nav_menu": {},
   "number_sections": false,
   "sideBar": true,
   "skip_h1_title": true,
   "title_cell": "Table of Contents",
   "title_sidebar": "Contents",
   "toc_cell": false,
   "toc_position": {
    "height": "calc(100% - 180px)",
    "left": "10px",
    "top": "150px",
    "width": "312.018px"
   },
   "toc_section_display": true,
   "toc_window_display": false
  },
  "varInspector": {
   "cols": {
    "lenName": 16,
    "lenType": 16,
    "lenVar": 40
   },
   "kernels_config": {
    "python": {
     "delete_cmd_postfix": "",
     "delete_cmd_prefix": "del ",
     "library": "var_list.py",
     "varRefreshCmd": "print(var_dic_list())"
    },
    "r": {
     "delete_cmd_postfix": ") ",
     "delete_cmd_prefix": "rm(",
     "library": "var_list.r",
     "varRefreshCmd": "cat(var_dic_list()) "
    }
   },
   "types_to_exclude": [
    "module",
    "function",
    "builtin_function_or_method",
    "instance",
    "_Feature"
   ],
   "window_display": false
  },
  "vscode": {
   "interpreter": {
    "hash": "ad2bdc8ecc057115af97d19610ffacc2b4e99fae6737bb82f5d7fb13d2f2c186"
   }
  }
 },
 "nbformat": 4,
 "nbformat_minor": 5
}
