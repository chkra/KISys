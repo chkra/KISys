{
 "cells": [
  {
   "cell_type": "markdown",
   "metadata": {},
   "source": [
    "\n",
    "**I758 Wissens- und KI-basierte Systeme**\n",
    "\n",
    "# Churn Prediction mit Neuronalen Netzwerken\n",
    " \n"
   ]
  },
  {
   "attachments": {},
   "cell_type": "markdown",
   "metadata": {},
   "source": [
    "Wir arbeiten heute mit einem weiteren \"Klassiker\" als Datensatz: dem IBM Customer Churn data set. Eine Dokumentation dazu können Sie [hier](https://www.ibm.com/docs/en/cognos-analytics/11.1.0?topic=samples-telco-customer-churn) finden. Es geht darum, basierend auf Kundendaten von Kunden einer (fiktiven) Telekom-Firma vorherzusagen, welcher Kunde im nächsten Monat seinen Vertrag beendet. Wir arbeiten also mit einem Klassikations-Problem: welche Kunden \"churnen\" (und benötigen deshalb besondere Aufmerksamkeit, z.B. einen freundlichen Anruf) und welche nicht?\n",
    "\n",
    "Diesmal wollen wir das Verhalten mit Hilfe eines neuronalen Netzwerkes vorhersagen. Dazu nutzen wir das extrem mächtige und umfangreiche Tensorflow-Framework mit der Keras-Bibliothek."
   ]
  },
  {
   "cell_type": "code",
   "execution_count": null,
   "metadata": {},
   "outputs": [],
   "source": [
    "# das hier könnte länger dauern (bis zu 10 Minuten?)\n",
    "%pip install tensorflow"
   ]
  },
  {
   "cell_type": "code",
   "execution_count": null,
   "metadata": {},
   "outputs": [],
   "source": [
    "import numpy as np\n",
    "import pandas as pd\n",
    "\n",
    "from matplotlib import pyplot as plt\n",
    "\n",
    "from sklearn.model_selection import train_test_split\n",
    "\n",
    "from tensorflow.keras import Sequential\n",
    "from tensorflow.keras.layers import Dense\n",
    "from tensorflow.keras.models import load_model"
   ]
  },
  {
   "attachments": {},
   "cell_type": "markdown",
   "metadata": {},
   "source": [
    "Die Daten sind online frei verfügbar, liegen der Einfachheit halber aber im Verzeichnis vor. Wir sehen Sie uns etwas im Detail an."
   ]
  },
  {
   "cell_type": "code",
   "execution_count": null,
   "metadata": {},
   "outputs": [],
   "source": [
    "data = pd.read_csv('data/Churn_Customers.csv')"
   ]
  },
  {
   "cell_type": "code",
   "execution_count": null,
   "metadata": {},
   "outputs": [],
   "source": [
    "data.head()"
   ]
  },
  {
   "cell_type": "code",
   "execution_count": null,
   "metadata": {},
   "outputs": [],
   "source": [
    "data.columns"
   ]
  },
  {
   "attachments": {},
   "cell_type": "markdown",
   "metadata": {},
   "source": [
    "Neuronale Netze sind von Natur aus rein numerisch arbeitende Modelle. Kategorische Variablen oder ähnliches sind nicht möglich. Versuchen wir, die Daten für unser numerisches Modell vorzubereiten. Gleich am Anfang erleben wir den ersten kleinen Stolperstein. Senior Citizen ist eine kategorische Variable - wird aber numerisch codiert. Das lässt sich (eigentlich) besser formulieren. Wir machen das Feature deshalb wieder kategorisch."
   ]
  },
  {
   "cell_type": "code",
   "execution_count": null,
   "metadata": {},
   "outputs": [],
   "source": [
    "data.SeniorCitizen.replace([0, 1], [\"No\", \"Yes\"], inplace= True)"
   ]
  },
  {
   "cell_type": "markdown",
   "metadata": {},
   "source": [
    "Die folgende Zeile könnte Probleme machen:"
   ]
  },
  {
   "cell_type": "code",
   "execution_count": null,
   "metadata": {},
   "outputs": [],
   "source": [
    "data.TotalCharges = data.TotalCharges.astype(float)"
   ]
  },
  {
   "attachments": {},
   "cell_type": "markdown",
   "metadata": {},
   "source": [
    "<div class=\"alert alert-block alert-success\">\n",
    "<b>Arbeitsauftrag:</b> \n",
    "Nanu? Was ist hier los? Finden Sie es heraus:\n",
    "</div>"
   ]
  },
  {
   "cell_type": "code",
   "execution_count": null,
   "metadata": {},
   "outputs": [],
   "source": [
    "for charge in data.TotalCharges:\n",
    "    try:\n",
    "        charge = float(charge)\n",
    "    except:\n",
    "        print(\"charge is: %s\" % charge)"
   ]
  },
  {
   "cell_type": "code",
   "execution_count": null,
   "metadata": {},
   "outputs": [],
   "source": [
    "for i in range(len(data)):\n",
    "  if data.TotalCharges[i] == \" \":\n",
    "      print(\"Tenure is %s and Monthly charges are %s\" % (data.tenure[i], data.MonthlyCharges[i]))"
   ]
  },
  {
   "cell_type": "markdown",
   "metadata": {},
   "source": [
    "Beschreiben Sie hier das Problem..."
   ]
  },
  {
   "attachments": {},
   "cell_type": "markdown",
   "metadata": {},
   "source": [
    "<div class=\"alert alert-block alert-success\">\n",
    "<b>Arbeitsauftrag:</b> \n",
    "Was sind das für Kunden? Lassen Sie uns die Daten reparieren und nach float konvertieren.\n",
    "</div>"
   ]
  },
  {
   "cell_type": "code",
   "execution_count": null,
   "metadata": {},
   "outputs": [],
   "source": [
    "# Total Charges reparieren\n",
    "...\n",
    "\n",
    "# Total Charges konvertieren\n",
    "data.TotalCharges = data.TotalCharges.astype(float)"
   ]
  },
  {
   "attachments": {},
   "cell_type": "markdown",
   "metadata": {},
   "source": [
    "<div class=\"alert alert-block alert-success\">\n",
    "<b>Arbeitsauftrag:</b> \n",
    "Customer ID sollte eigentlich keinen Informationsgehalt haben - dieses Feature kann weg. Schmeißen Sie es aus dem Datensatz.\n",
    "</div>"
   ]
  },
  {
   "cell_type": "code",
   "execution_count": null,
   "metadata": {},
   "outputs": [],
   "source": [
    "# ..."
   ]
  },
  {
   "attachments": {},
   "cell_type": "markdown",
   "metadata": {},
   "source": [
    "Das sollte für den Anfang reichen. Welche Werte bleiben übrig?"
   ]
  },
  {
   "cell_type": "code",
   "execution_count": null,
   "metadata": {},
   "outputs": [],
   "source": [
    "for col in data.dtypes[data.dtypes == object].index:\n",
    "    print(col, data[col].unique())"
   ]
  },
  {
   "attachments": {},
   "cell_type": "markdown",
   "metadata": {},
   "source": [
    "Auch unsere Zielfunktion kann leider nicht kategorisch sein, deshalb ersetzen wir die Werte durch Integer:"
   ]
  },
  {
   "cell_type": "code",
   "execution_count": null,
   "metadata": {},
   "outputs": [],
   "source": [
    "data.Churn.replace([\"Yes\", \"No\"], [1, 0], inplace= True)"
   ]
  },
  {
   "attachments": {},
   "cell_type": "markdown",
   "metadata": {},
   "source": [
    "Jetzt nutzen wir noch das bekannte One Hot Encoding, um die restlichen kategorischen Werte zu transformieren."
   ]
  },
  {
   "cell_type": "code",
   "execution_count": null,
   "metadata": {},
   "outputs": [],
   "source": [
    "data = pd.get_dummies(data)"
   ]
  },
  {
   "attachments": {},
   "cell_type": "markdown",
   "metadata": {},
   "source": [
    "Dieser Teil sollte Ihnen sehr bekannt vorkommen. "
   ]
  },
  {
   "cell_type": "code",
   "execution_count": null,
   "metadata": {},
   "outputs": [],
   "source": [
    "X = data.drop(\"Churn\", axis= 1)\n",
    "y = data.Churn\n",
    "\n",
    "X_train, X_test, y_train, y_test = train_test_split(X, y, test_size= 0.2, random_state= 1234)"
   ]
  },
  {
   "attachments": {},
   "cell_type": "markdown",
   "metadata": {},
   "source": [
    "Hier wird es spannend: so bauen wir das neuronale Netz aus mehreren Layers. Studieren Sie den Code und folgen Sie dem Ablauf bis zum Berechnen der Accuracy."
   ]
  },
  {
   "cell_type": "code",
   "execution_count": null,
   "metadata": {},
   "outputs": [],
   "source": [
    "model = Sequential()\n",
    "model.add(Dense(16, input_dim=X_train.shape[1], activation='relu'))\n",
    "model.add(Dense(8, activation='relu'))\n",
    "model.add(Dense(1, activation='sigmoid'))"
   ]
  },
  {
   "cell_type": "code",
   "execution_count": null,
   "metadata": {},
   "outputs": [],
   "source": [
    "model.compile(loss='binary_crossentropy', optimizer='adam', metrics=['accuracy'])"
   ]
  },
  {
   "cell_type": "markdown",
   "metadata": {},
   "source": [
    "Das hier könnte etwas dauern (ein paar Minuten)"
   ]
  },
  {
   "cell_type": "code",
   "execution_count": null,
   "metadata": {},
   "outputs": [],
   "source": [
    "model.fit(X_train, y_train, epochs=150, batch_size=10)"
   ]
  },
  {
   "cell_type": "code",
   "execution_count": null,
   "metadata": {},
   "outputs": [],
   "source": [
    "_, accuracy = model.evaluate(X_test, y_test)\n",
    "accuracy"
   ]
  },
  {
   "cell_type": "markdown",
   "metadata": {},
   "source": [
    "<div class=\"alert alert-block alert-success\">\n",
    "<b>Arbeitsauftrag:</b> \n",
    "Versuchen Sie nun, dem Modell eine ganz andere Struktur (mehr/weniger Layer, größere/kleinere/andere Layer) zu geben oder das Training zu variieren. Vielleicht wollen Sie sich auch zu <a href=\"https://keras.io/guides/sequential_model/\">Sequential Models</a> belesen. Versuchen Sie, die ursprüngliche Modell-Accuracy des Originals von 78,64 Prozent (Achtung: auf den Testdaten) zu übertreffen!\n",
    "</div>"
   ]
  },
  {
   "cell_type": "markdown",
   "metadata": {},
   "source": [
    "Zum Schluss können Sie Ihr Modell speichern:"
   ]
  },
  {
   "cell_type": "code",
   "execution_count": null,
   "metadata": {},
   "outputs": [],
   "source": [
    "model.save('my_model.h5')"
   ]
  }
 ],
 "metadata": {
  "kernelspec": {
   "display_name": "base",
   "language": "python",
   "name": "python3"
  },
  "language_info": {
   "codemirror_mode": {
    "name": "ipython",
    "version": 3
   },
   "file_extension": ".py",
   "mimetype": "text/x-python",
   "name": "python",
   "nbconvert_exporter": "python",
   "pygments_lexer": "ipython3",
   "version": "3.8.15"
  },
  "orig_nbformat": 4,
  "vscode": {
   "interpreter": {
    "hash": "ad2bdc8ecc057115af97d19610ffacc2b4e99fae6737bb82f5d7fb13d2f2c186"
   }
  }
 },
 "nbformat": 4,
 "nbformat_minor": 2
}
