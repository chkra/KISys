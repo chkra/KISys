{
 "cells": [
  {
   "cell_type": "markdown",
   "metadata": {},
   "source": [
    "# Beispiel: Text-Erzeugung"
   ]
  },
  {
   "cell_type": "code",
   "execution_count": 21,
   "metadata": {},
   "outputs": [],
   "source": [
    "import tensorflow as tf\n",
    "from tensorflow.keras.preprocessing.text import Tokenizer\n",
    "from tensorflow.keras.utils import to_categorical\n",
    "from tensorflow.keras.models import Sequential\n",
    "from tensorflow.keras.layers import Embedding, LSTM, Dense\n",
    "import numpy as np"
   ]
  },
  {
   "cell_type": "markdown",
   "metadata": {},
   "source": [
    "Daten beschaffen"
   ]
  },
  {
   "cell_type": "code",
   "execution_count": 22,
   "metadata": {},
   "outputs": [],
   "source": [
    "# Shakespeare-Text laden (eine Beispielzeile)\n",
    "shakespeare_text = \"\"\"To be, or not to be, that is the question:\n",
    "Whether 'tis nobler in the mind to suffer\n",
    "The slings and arrows of outrageous fortune,\n",
    "Or to take arms against a sea of troubles\n",
    "And by opposing end them.\"\"\""
   ]
  },
  {
   "cell_type": "markdown",
   "metadata": {},
   "source": [
    "Daten vorverarbeiten"
   ]
  },
  {
   "cell_type": "code",
   "execution_count": 23,
   "metadata": {},
   "outputs": [],
   "source": [
    "# Tokenisierung des Textes\n",
    "tokenizer = Tokenizer()\n",
    "tokenizer.fit_on_texts([shakespeare_text])\n",
    "total_words = len(tokenizer.word_index) + 1\n",
    "\n",
    "# Sequenzen erstellen\n",
    "input_sequences = []\n",
    "for line in shakespeare_text.split('\\n'):\n",
    "    token_list = tokenizer.texts_to_sequences([line])[0]\n",
    "    for i in range(1, len(token_list)):\n",
    "        n_gram_sequence = token_list[:i+1]\n",
    "        input_sequences.append(n_gram_sequence)"
   ]
  },
  {
   "cell_type": "code",
   "execution_count": 24,
   "metadata": {},
   "outputs": [
    {
     "data": {
      "text/plain": [
       "[5, 27, 28, 29, 30]"
      ]
     },
     "execution_count": 24,
     "metadata": {},
     "output_type": "execute_result"
    }
   ],
   "source": [
    "token_list"
   ]
  },
  {
   "cell_type": "code",
   "execution_count": 25,
   "metadata": {},
   "outputs": [
    {
     "data": {
      "text/plain": [
       "[[1, 3],\n",
       " [1, 3, 4],\n",
       " [1, 3, 4, 7],\n",
       " [1, 3, 4, 7, 1],\n",
       " [1, 3, 4, 7, 1, 3],\n",
       " [1, 3, 4, 7, 1, 3, 8],\n",
       " [1, 3, 4, 7, 1, 3, 8, 9],\n",
       " [1, 3, 4, 7, 1, 3, 8, 9, 2],\n",
       " [1, 3, 4, 7, 1, 3, 8, 9, 2, 10],\n",
       " [11, 12],\n",
       " [11, 12, 13],\n",
       " [11, 12, 13, 14],\n",
       " [11, 12, 13, 14, 2],\n",
       " [11, 12, 13, 14, 2, 15],\n",
       " [11, 12, 13, 14, 2, 15, 1],\n",
       " [11, 12, 13, 14, 2, 15, 1, 16],\n",
       " [2, 17],\n",
       " [2, 17, 5],\n",
       " [2, 17, 5, 18],\n",
       " [2, 17, 5, 18, 6],\n",
       " [2, 17, 5, 18, 6, 19],\n",
       " [2, 17, 5, 18, 6, 19, 20],\n",
       " [4, 1],\n",
       " [4, 1, 21],\n",
       " [4, 1, 21, 22],\n",
       " [4, 1, 21, 22, 23],\n",
       " [4, 1, 21, 22, 23, 24],\n",
       " [4, 1, 21, 22, 23, 24, 25],\n",
       " [4, 1, 21, 22, 23, 24, 25, 6],\n",
       " [4, 1, 21, 22, 23, 24, 25, 6, 26],\n",
       " [5, 27],\n",
       " [5, 27, 28],\n",
       " [5, 27, 28, 29],\n",
       " [5, 27, 28, 29, 30]]"
      ]
     },
     "execution_count": 25,
     "metadata": {},
     "output_type": "execute_result"
    }
   ],
   "source": [
    "input_sequences"
   ]
  },
  {
   "cell_type": "code",
   "execution_count": 26,
   "metadata": {},
   "outputs": [
    {
     "data": {
      "text/plain": [
       "array([[ 0,  0,  0,  0,  0,  0,  0,  0,  1,  3],\n",
       "       [ 0,  0,  0,  0,  0,  0,  0,  1,  3,  4],\n",
       "       [ 0,  0,  0,  0,  0,  0,  1,  3,  4,  7],\n",
       "       [ 0,  0,  0,  0,  0,  1,  3,  4,  7,  1],\n",
       "       [ 0,  0,  0,  0,  1,  3,  4,  7,  1,  3],\n",
       "       [ 0,  0,  0,  1,  3,  4,  7,  1,  3,  8],\n",
       "       [ 0,  0,  1,  3,  4,  7,  1,  3,  8,  9],\n",
       "       [ 0,  1,  3,  4,  7,  1,  3,  8,  9,  2],\n",
       "       [ 1,  3,  4,  7,  1,  3,  8,  9,  2, 10],\n",
       "       [ 0,  0,  0,  0,  0,  0,  0,  0, 11, 12],\n",
       "       [ 0,  0,  0,  0,  0,  0,  0, 11, 12, 13],\n",
       "       [ 0,  0,  0,  0,  0,  0, 11, 12, 13, 14],\n",
       "       [ 0,  0,  0,  0,  0, 11, 12, 13, 14,  2],\n",
       "       [ 0,  0,  0,  0, 11, 12, 13, 14,  2, 15],\n",
       "       [ 0,  0,  0, 11, 12, 13, 14,  2, 15,  1],\n",
       "       [ 0,  0, 11, 12, 13, 14,  2, 15,  1, 16],\n",
       "       [ 0,  0,  0,  0,  0,  0,  0,  0,  2, 17],\n",
       "       [ 0,  0,  0,  0,  0,  0,  0,  2, 17,  5],\n",
       "       [ 0,  0,  0,  0,  0,  0,  2, 17,  5, 18],\n",
       "       [ 0,  0,  0,  0,  0,  2, 17,  5, 18,  6],\n",
       "       [ 0,  0,  0,  0,  2, 17,  5, 18,  6, 19],\n",
       "       [ 0,  0,  0,  2, 17,  5, 18,  6, 19, 20],\n",
       "       [ 0,  0,  0,  0,  0,  0,  0,  0,  4,  1],\n",
       "       [ 0,  0,  0,  0,  0,  0,  0,  4,  1, 21],\n",
       "       [ 0,  0,  0,  0,  0,  0,  4,  1, 21, 22],\n",
       "       [ 0,  0,  0,  0,  0,  4,  1, 21, 22, 23],\n",
       "       [ 0,  0,  0,  0,  4,  1, 21, 22, 23, 24],\n",
       "       [ 0,  0,  0,  4,  1, 21, 22, 23, 24, 25],\n",
       "       [ 0,  0,  4,  1, 21, 22, 23, 24, 25,  6],\n",
       "       [ 0,  4,  1, 21, 22, 23, 24, 25,  6, 26],\n",
       "       [ 0,  0,  0,  0,  0,  0,  0,  0,  5, 27],\n",
       "       [ 0,  0,  0,  0,  0,  0,  0,  5, 27, 28],\n",
       "       [ 0,  0,  0,  0,  0,  0,  5, 27, 28, 29],\n",
       "       [ 0,  0,  0,  0,  0,  5, 27, 28, 29, 30]])"
      ]
     },
     "execution_count": 26,
     "metadata": {},
     "output_type": "execute_result"
    }
   ],
   "source": [
    "# Paddeln der Sequenzen\n",
    "max_sequence_len = max([len(x) for x in input_sequences])\n",
    "input_sequences = np.array(tf.keras.preprocessing.sequence.pad_sequences(input_sequences, maxlen=max_sequence_len, padding='pre'))\n",
    "input_sequences"
   ]
  },
  {
   "cell_type": "code",
   "execution_count": 27,
   "metadata": {},
   "outputs": [],
   "source": [
    "# Merkmale und Labels aufteilen\n",
    "xs, labels = input_sequences[:,:-1], input_sequences[:,-1]\n",
    "ys = to_categorical(labels, num_classes=total_words)"
   ]
  },
  {
   "cell_type": "markdown",
   "metadata": {},
   "source": [
    "Modell bauen"
   ]
  },
  {
   "cell_type": "code",
   "execution_count": 28,
   "metadata": {},
   "outputs": [],
   "source": [
    "# Modell erstellen\n",
    "model = Sequential([\n",
    "    Embedding(total_words, 64, input_length=max_sequence_len-1),\n",
    "    LSTM(64),\n",
    "    Dense(total_words, activation='softmax')\n",
    "])\n",
    "\n",
    "# Modell kompilieren\n",
    "model.compile(loss='categorical_crossentropy', optimizer='adam', metrics=['accuracy'])"
   ]
  },
  {
   "cell_type": "markdown",
   "metadata": {},
   "source": [
    "Training"
   ]
  },
  {
   "cell_type": "code",
   "execution_count": 29,
   "metadata": {},
   "outputs": [
    {
     "name": "stdout",
     "output_type": "stream",
     "text": [
      "Epoch 1/10\n",
      "2/2 [==============================] - 3s 16ms/step - loss: 3.4320 - accuracy: 0.1176\n",
      "Epoch 2/10\n",
      "2/2 [==============================] - 0s 13ms/step - loss: 3.4259 - accuracy: 0.1765\n",
      "Epoch 3/10\n",
      "2/2 [==============================] - 0s 16ms/step - loss: 3.4220 - accuracy: 0.1176\n",
      "Epoch 4/10\n",
      "2/2 [==============================] - 0s 10ms/step - loss: 3.4185 - accuracy: 0.1176\n",
      "Epoch 5/10\n",
      "2/2 [==============================] - 0s 17ms/step - loss: 3.4149 - accuracy: 0.1176\n",
      "Epoch 6/10\n",
      "2/2 [==============================] - 0s 0s/step - loss: 3.4116 - accuracy: 0.1471\n",
      "Epoch 7/10\n",
      "2/2 [==============================] - 0s 20ms/step - loss: 3.4085 - accuracy: 0.1471\n",
      "Epoch 8/10\n",
      "2/2 [==============================] - 0s 2ms/step - loss: 3.4051 - accuracy: 0.1471\n",
      "Epoch 9/10\n",
      "2/2 [==============================] - 0s 14ms/step - loss: 3.4016 - accuracy: 0.1471\n",
      "Epoch 10/10\n",
      "2/2 [==============================] - 0s 18ms/step - loss: 3.3982 - accuracy: 0.2059\n"
     ]
    },
    {
     "data": {
      "text/plain": [
       "<keras.callbacks.History at 0x177f894e190>"
      ]
     },
     "execution_count": 29,
     "metadata": {},
     "output_type": "execute_result"
    }
   ],
   "source": [
    "# Modell trainieren\n",
    "# Empfehlung: 500 epochs. Wir verwenden hier nur 10, um die Laufzeit zu verkürzen.\n",
    "model.fit(xs, ys, epochs=10, verbose=1)"
   ]
  },
  {
   "cell_type": "markdown",
   "metadata": {},
   "source": [
    "Modell anwenden"
   ]
  },
  {
   "cell_type": "code",
   "execution_count": 30,
   "metadata": {},
   "outputs": [
    {
     "name": "stdout",
     "output_type": "stream",
     "text": [
      "1/1 [==============================] - 1s 673ms/step\n",
      "1/1 [==============================] - 0s 49ms/step\n",
      "1/1 [==============================] - 0s 45ms/step\n",
      "1/1 [==============================] - 0s 32ms/step\n",
      "1/1 [==============================] - 0s 49ms/step\n",
      "1/1 [==============================] - 0s 49ms/step\n",
      "1/1 [==============================] - 0s 48ms/step\n",
      "1/1 [==============================] - 0s 56ms/step\n",
      "1/1 [==============================] - 0s 44ms/step\n",
      "1/1 [==============================] - 0s 53ms/step\n",
      "1/1 [==============================] - 0s 39ms/step\n",
      "1/1 [==============================] - 0s 31ms/step\n",
      "1/1 [==============================] - 0s 51ms/step\n",
      "1/1 [==============================] - 0s 27ms/step\n",
      "1/1 [==============================] - 0s 52ms/step\n",
      "1/1 [==============================] - 0s 56ms/step\n",
      "1/1 [==============================] - 0s 49ms/step\n",
      "1/1 [==============================] - 0s 55ms/step\n",
      "1/1 [==============================] - 0s 55ms/step\n",
      "1/1 [==============================] - 0s 18ms/step\n",
      "To be be be be or be be be the be the be the be the be the be the be the\n"
     ]
    }
   ],
   "source": [
    "# Funktion zur Textgenerierung\n",
    "def generate_text(seed_text, next_words, model, max_sequence_len):\n",
    "    for _ in range(next_words):\n",
    "        token_list = tokenizer.texts_to_sequences([seed_text])[0]\n",
    "        token_list = tf.keras.preprocessing.sequence.pad_sequences([token_list], maxlen=max_sequence_len-1, padding='pre')\n",
    "        predicted = np.argmax(model.predict(token_list), axis=-1)\n",
    "        output_word = \"\"\n",
    "        for word, index in tokenizer.word_index.items():\n",
    "            if index == predicted:\n",
    "                output_word = word\n",
    "                break\n",
    "        seed_text += \" \" + output_word\n",
    "    return seed_text\n",
    "\n",
    "# Beispielhafte Textgenerierung\n",
    "print(generate_text(\"To be\", 20, model, max_sequence_len))\n"
   ]
  },
  {
   "cell_type": "code",
   "execution_count": null,
   "metadata": {},
   "outputs": [],
   "source": []
  }
 ],
 "metadata": {
  "kernelspec": {
   "display_name": "ml_app",
   "language": "python",
   "name": "python3"
  },
  "language_info": {
   "codemirror_mode": {
    "name": "ipython",
    "version": 3
   },
   "file_extension": ".py",
   "mimetype": "text/x-python",
   "name": "python",
   "nbconvert_exporter": "python",
   "pygments_lexer": "ipython3",
   "version": "3.8.15"
  }
 },
 "nbformat": 4,
 "nbformat_minor": 2
}
