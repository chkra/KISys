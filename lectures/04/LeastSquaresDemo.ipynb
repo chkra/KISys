{
 "cells": [
  {
   "cell_type": "markdown",
   "metadata": {},
   "source": [
    "**I758 Wissens- und KI-basierte Systeme**\n",
    "\n",
    "# Demo - Methode der kleinsten Quadrate\n",
    "(c) Christina Kratsch\n"
   ]
  },
  {
   "cell_type": "markdown",
   "metadata": {},
   "source": [
    "## Einen Datensatz einlesen\n",
    "\n",
    "Skitit learn bietet viele Demonstrations-Datensätze, die wir zum \"spielen\" verwenden können. Laden wir uns den Diabetes-Datensatz. Damit wir im menschenfreundlichen 2-dimensionalen Raum plotten können, nutzen wir nur eine Spalte aus dem Datensatz."
   ]
  },
  {
   "cell_type": "code",
   "execution_count": null,
   "metadata": {},
   "outputs": [],
   "source": [
    "\n",
    "import matplotlib.pyplot as plt\n",
    "import numpy as np\n",
    "\n",
    "from sklearn import datasets, linear_model\n",
    "from sklearn.metrics import mean_squared_error, r2_score\n",
    "\n",
    "TEST_SIZE = 100\n",
    "\n",
    "\n",
    "# Load the diabetes dataset\n",
    "diabetes_X, diabetes_y = datasets.load_diabetes(return_X_y=True)\n",
    "\n",
    "# Use only one feature\n",
    "diabetes_X = diabetes_X[:, np.newaxis, 2]\n",
    "\n",
    "diabetes_X.shape"
   ]
  },
  {
   "cell_type": "markdown",
   "metadata": {},
   "source": [
    "# Den Datensatz aufteilen\n",
    "\n",
    "Wir wollen ein einfaches KI-Modell lernen, die **Lineare Regression**. Dafür teilen wir den Datensatz in Test- und Trainingsdaten:"
   ]
  },
  {
   "cell_type": "code",
   "execution_count": 37,
   "metadata": {},
   "outputs": [],
   "source": [
    "# Split the data into training/testing sets\n",
    "diabetes_X_train = diabetes_X[:-TEST_SIZE]\n",
    "diabetes_X_test = diabetes_X[-TEST_SIZE:]\n",
    "\n",
    "# Split the targets into training/testing sets\n",
    "diabetes_y_train = diabetes_y[:-TEST_SIZE]\n",
    "diabetes_y_test = diabetes_y[-TEST_SIZE:]"
   ]
  },
  {
   "cell_type": "markdown",
   "metadata": {},
   "source": [
    "## Das Modell lernen\n",
    "\n",
    "Lineare Regression mit Scikit Learn ist recht einfach gemacht - wir trainieren das Modell auf den Trainingsdaten und lassen uns anschließend die Modell-Parameter ausgeben:"
   ]
  },
  {
   "cell_type": "code",
   "execution_count": null,
   "metadata": {},
   "outputs": [],
   "source": [
    "# Create linear regression object\n",
    "regr = linear_model.LinearRegression()\n",
    "\n",
    "# Train the model using the training sets\n",
    "regr.fit(diabetes_X_train, diabetes_y_train)\n",
    "\n",
    "# The coefficients\n",
    "print(\"Coefficient: \\n\", regr.coef_)\n",
    "print(\"intercept: \\n\", regr.intercept_)\n"
   ]
  },
  {
   "cell_type": "markdown",
   "metadata": {},
   "source": [
    "Wir haben also ein Lineares Modell für eine Dimension (= eine Linie, Gerade) mit Anstieg und Intercept gelernt. In den Trainingsdaten geplottet sieht diese Linie so aus:"
   ]
  },
  {
   "cell_type": "code",
   "execution_count": null,
   "metadata": {},
   "outputs": [],
   "source": [
    "plt.scatter(diabetes_X_train, diabetes_y_train, color=\"black\")\n",
    "\n",
    "def abline(slope, intercept):\n",
    "    axes = plt.gca()\n",
    "    x_vals = np.array(axes.get_xlim())\n",
    "    y_vals = intercept + slope * x_vals\n",
    "    plt.plot(x_vals, y_vals, '--', color=\"red\")\n",
    "\n",
    "abline(slope=regr.coef_, intercept=regr.intercept_)"
   ]
  },
  {
   "cell_type": "markdown",
   "metadata": {},
   "source": [
    "## Das Modell auf den Test-Daten anwenden\n",
    "\n",
    "Jetzt nutzen wir das Modell, um \"neue\" Daten, die das Modell noch nie gesehen hat (`diabetes_X_test`), mit dem Modell zu bewerten. Das Modell schreibt seine Vorhersage in `y_pred`. Um die Qualität des Modells bewerten zu können, können wir die wahren Antworten in `diabetes_y_test` verwenden:"
   ]
  },
  {
   "cell_type": "code",
   "execution_count": 40,
   "metadata": {},
   "outputs": [],
   "source": [
    "# Make predictions using the testing set\n",
    "diabetes_y_pred = regr.predict(diabetes_X_test)"
   ]
  },
  {
   "cell_type": "markdown",
   "metadata": {},
   "source": [
    "Zum Schluss plotten wir das Ergebnis und inspizieren die Abweichungen im Plot."
   ]
  },
  {
   "cell_type": "code",
   "execution_count": null,
   "metadata": {},
   "outputs": [],
   "source": [
    "# Plot outputs\n",
    "plt.scatter(diabetes_X_test, diabetes_y_test, color=\"black\")\n",
    "plt.plot(diabetes_X_test, diabetes_y_pred, color=\"blue\", linewidth=3)\n",
    "\n",
    "plt.show()"
   ]
  },
  {
   "cell_type": "markdown",
   "metadata": {},
   "source": [
    "Zum Schluss die entscheidende Frage: ist unser Modell ein gutes Modell? Woran sehen wir das? Wie können wir das messen? Vielleicht helfen die Formel unten bei der Frage."
   ]
  },
  {
   "cell_type": "code",
   "execution_count": null,
   "metadata": {},
   "outputs": [],
   "source": [
    "# The mean squared error\n",
    "print(\"Mean squared error: %.2f\" % mean_squared_error(diabetes_y_test, diabetes_y_pred))\n",
    "# The coefficient of determination: 1 is perfect prediction\n",
    "print(\"Coefficient of determination: %.2f\" % r2_score(diabetes_y_test, diabetes_y_pred))\n",
    "\n",
    "\n",
    "print (\"Sample mean\", np.mean(diabetes_y_test))"
   ]
  },
  {
   "cell_type": "markdown",
   "metadata": {},
   "source": []
  }
 ],
 "metadata": {
  "kernelspec": {
   "display_name": "base",
   "language": "python",
   "name": "python3"
  },
  "language_info": {
   "codemirror_mode": {
    "name": "ipython",
    "version": 3
   },
   "file_extension": ".py",
   "mimetype": "text/x-python",
   "name": "python",
   "nbconvert_exporter": "python",
   "pygments_lexer": "ipython3",
   "version": "3.9.16"
  }
 },
 "nbformat": 4,
 "nbformat_minor": 2
}
